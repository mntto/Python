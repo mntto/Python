{
 "cells": [
  {
   "cell_type": "code",
   "execution_count": 1,
   "id": "1e865d7b",
   "metadata": {},
   "outputs": [],
   "source": [
    "from email.policy import default\n",
    "import pandas as pd \n",
    "import numpy as np\n",
    "from pandas.core import base \n",
    "import seaborn as sns \n",
    "import matplotlib.pyplot as plt \n",
    "import plotly.express as px \n",
    "from sklearn.preprocessing import StandardScaler"
   ]
  },
  {
   "cell_type": "code",
   "execution_count": 3,
   "id": "690a22e3",
   "metadata": {},
   "outputs": [],
   "source": [
    "base_census = pd.read_csv('/home/mnetto/Documents/Python/census.csv')"
   ]
  },
  {
   "cell_type": "code",
   "execution_count": null,
   "id": "e2ec8136",
   "metadata": {},
   "outputs": [],
   "source": []
  },
  {
   "cell_type": "code",
   "execution_count": null,
   "id": "acb85d65",
   "metadata": {},
   "outputs": [],
   "source": []
  },
  {
   "cell_type": "code",
   "execution_count": null,
   "id": "576a9d0d",
   "metadata": {},
   "outputs": [],
   "source": []
  }
 ],
 "metadata": {
  "kernelspec": {
   "display_name": "Python 3 (ipykernel)",
   "language": "python",
   "name": "python3"
  },
  "language_info": {
   "codemirror_mode": {
    "name": "ipython",
    "version": 3
   },
   "file_extension": ".py",
   "mimetype": "text/x-python",
   "name": "python",
   "nbconvert_exporter": "python",
   "pygments_lexer": "ipython3",
   "version": "3.9.7"
  }
 },
 "nbformat": 4,
 "nbformat_minor": 5
}

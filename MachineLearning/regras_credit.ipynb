{
 "cells": [
  {
   "cell_type": "code",
   "execution_count": 15,
   "metadata": {},
   "outputs": [],
   "source": [
    "import Orange"
   ]
  },
  {
   "cell_type": "code",
   "execution_count": 16,
   "metadata": {},
   "outputs": [],
   "source": [
    "base_credit = Orange.data.Table('/home/mnetto/Documents/Python/credit_data_regras.csv')"
   ]
  },
  {
   "cell_type": "code",
   "execution_count": 17,
   "metadata": {},
   "outputs": [
    {
     "data": {
      "text/plain": [
       "[income, age, loan | default]"
      ]
     },
     "execution_count": 17,
     "metadata": {},
     "output_type": "execute_result"
    }
   ],
   "source": [
    "base_credit.domain"
   ]
  },
  {
   "cell_type": "code",
   "execution_count": 18,
   "metadata": {},
   "outputs": [],
   "source": [
    "base_dividida = Orange.evaluation.testing.sample(base_credit, n= 0.25)"
   ]
  },
  {
   "cell_type": "code",
   "execution_count": 19,
   "metadata": {},
   "outputs": [
    {
     "data": {
      "text/plain": [
       "([[47526.2, 57.2196, 8957.33 | 0],\n",
       "  [34569.3, 63.6407, 6254.53 | 0],\n",
       "  [48540.3, 21.2392, 1012.93 | 0],\n",
       "  [60729.9, 40.7735, 5006.85 | 0],\n",
       "  [57827.7, 23.973, 10816.8 | 1],\n",
       "  ...\n",
       " ],\n",
       " [[21306, 35.0942, 3791.02 | 0],\n",
       "  [36559.1, 19.7162, 3030.27 | 0],\n",
       "  [25008.9, 63.2171, 2941.03 | 0],\n",
       "  [25817.4, 37.9455, 4115.48 | 0],\n",
       "  [50167.7, 42.0475, 5592.65 | 0],\n",
       "  ...\n",
       " ])"
      ]
     },
     "execution_count": 19,
     "metadata": {},
     "output_type": "execute_result"
    }
   ],
   "source": [
    "base_dividida"
   ]
  },
  {
   "cell_type": "code",
   "execution_count": 20,
   "metadata": {},
   "outputs": [
    {
     "data": {
      "text/plain": [
       "[[47526.2, 57.2196, 8957.33 | 0],\n",
       " [34569.3, 63.6407, 6254.53 | 0],\n",
       " [48540.3, 21.2392, 1012.93 | 0],\n",
       " [60729.9, 40.7735, 5006.85 | 0],\n",
       " [57827.7, 23.973, 10816.8 | 1],\n",
       " ...\n",
       "]"
      ]
     },
     "execution_count": 20,
     "metadata": {},
     "output_type": "execute_result"
    }
   ],
   "source": [
    "base_dividida[0]"
   ]
  },
  {
   "cell_type": "code",
   "execution_count": 21,
   "metadata": {},
   "outputs": [
    {
     "data": {
      "text/plain": [
       "[[21306, 35.0942, 3791.02 | 0],\n",
       " [36559.1, 19.7162, 3030.27 | 0],\n",
       " [25008.9, 63.2171, 2941.03 | 0],\n",
       " [25817.4, 37.9455, 4115.48 | 0],\n",
       " [50167.7, 42.0475, 5592.65 | 0],\n",
       " ...\n",
       "]"
      ]
     },
     "execution_count": 21,
     "metadata": {},
     "output_type": "execute_result"
    }
   ],
   "source": [
    "base_dividida[1] \n"
   ]
  },
  {
   "cell_type": "code",
   "execution_count": 22,
   "metadata": {},
   "outputs": [
    {
     "data": {
      "text/plain": [
       "(500, 1500)"
      ]
     },
     "execution_count": 22,
     "metadata": {},
     "output_type": "execute_result"
    }
   ],
   "source": [
    "len(base_dividida[0]), len(base_dividida[1])"
   ]
  },
  {
   "cell_type": "code",
   "execution_count": 23,
   "metadata": {},
   "outputs": [],
   "source": [
    "base_treinamento = base_dividida[1]\n",
    "base_teste = base_dividida[0]"
   ]
  },
  {
   "cell_type": "code",
   "execution_count": 24,
   "metadata": {},
   "outputs": [],
   "source": [
    "cn2 = Orange.classification.rules.CN2Learner()\n",
    "regras_credit = cn2(base_treinamento)"
   ]
  },
  {
   "cell_type": "code",
   "execution_count": 25,
   "metadata": {},
   "outputs": [
    {
     "name": "stdout",
     "output_type": "stream",
     "text": [
      "IF age>=34.9257164876908 THEN default=0 \n",
      "IF loan>=8045.4409532236705 THEN default=1 \n",
      "IF loan<=2495.13299137587 AND income>=20145.9885970689 THEN default=0 \n",
      "IF income>=57787.565658800304 AND age>=23.162104470655304 THEN default=0 \n",
      "IF loan>=5836.56338145928 AND loan>=7983.705373244459 THEN default=0 \n",
      "IF income<=44324.286368209905 AND loan>=5043.14863656084 THEN default=1 \n",
      "IF loan>=6978.52505744359 AND age>=18.621307099238 THEN default=1 \n",
      "IF income>=31702.3342987522 AND age>=33.9493660898879 THEN default=0 \n",
      "IF income>=31702.3342987522 AND age>=33.804503521882 THEN default=1 \n",
      "IF age<=21.2076896023937 AND income>=52841.5164374746 THEN default=0 \n",
      "IF loan>=6525.21842259918 THEN default=1 \n",
      "IF income>=31702.3342987522 AND income>=50501.7266888171 THEN default=0 \n",
      "IF age>=33.656441235914805 AND income>=23886.5676149726 THEN default=1 \n",
      "IF loan>=5862.83302915672 THEN default=1 \n",
      "IF income>=31702.3342987522 AND age>=25.546307830139998 THEN default=0 \n",
      "IF age>=24.278338806237997 AND loan>=3133.6244473393394 THEN default=1 \n",
      "IF income>=38129.754869733 THEN default=0 \n",
      "IF loan>=4362.0831523754205 THEN default=1 \n",
      "IF income>=29724.4768752716 THEN default=0 \n",
      "IF loan>=2971.00330971188 THEN default=1 \n",
      "IF income>=22089.8374845274 THEN default=0 \n",
      "IF income<=20113.2534933276 THEN default=1 \n",
      "IF income<=20897.4266937003 THEN default=1 \n",
      "IF income<=21605.7250904851 THEN default=1 \n",
      "IF TRUE THEN default=0 \n"
     ]
    }
   ],
   "source": [
    "for regras in regras_credit.rule_list: \n",
    "    print(regras)"
   ]
  },
  {
   "cell_type": "code",
   "execution_count": 26,
   "metadata": {},
   "outputs": [],
   "source": [
    "previsoes = Orange.evaluation.testing.TestOnTestData(base_treinamento, base_teste, [lambda testdata: regras_credit])"
   ]
  },
  {
   "cell_type": "code",
   "execution_count": 27,
   "metadata": {},
   "outputs": [
    {
     "data": {
      "text/plain": [
       "<Orange.evaluation.testing.Results at 0x7fba61f78430>"
      ]
     },
     "execution_count": 27,
     "metadata": {},
     "output_type": "execute_result"
    }
   ],
   "source": [
    "previsoes"
   ]
  },
  {
   "cell_type": "code",
   "execution_count": 28,
   "metadata": {},
   "outputs": [
    {
     "data": {
      "text/plain": [
       "array([0.974])"
      ]
     },
     "execution_count": 28,
     "metadata": {},
     "output_type": "execute_result"
    }
   ],
   "source": [
    "Orange.evaluation.CA(previsoes)"
   ]
  },
  {
   "cell_type": "code",
   "execution_count": null,
   "metadata": {},
   "outputs": [],
   "source": []
  }
 ],
 "metadata": {
  "interpreter": {
   "hash": "43b8dc23cbfd15ad8a0396acacaf08a82175dc56fbdd094957761d66f6bb2d05"
  },
  "kernelspec": {
   "display_name": "Python 3.9.7 ('base')",
   "language": "python",
   "name": "python3"
  },
  "language_info": {
   "codemirror_mode": {
    "name": "ipython",
    "version": 3
   },
   "file_extension": ".py",
   "mimetype": "text/x-python",
   "name": "python",
   "nbconvert_exporter": "python",
   "pygments_lexer": "ipython3",
   "version": "3.9.7"
  },
  "orig_nbformat": 4
 },
 "nbformat": 4,
 "nbformat_minor": 2
}

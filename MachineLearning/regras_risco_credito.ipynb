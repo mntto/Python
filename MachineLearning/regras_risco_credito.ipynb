{
 "cells": [
  {
   "cell_type": "code",
   "execution_count": 1,
   "metadata": {},
   "outputs": [],
   "source": [
    "import Orange"
   ]
  },
  {
   "cell_type": "code",
   "execution_count": 3,
   "metadata": {},
   "outputs": [],
   "source": [
    "base_risco_credito = Orange.data.Table('/home/mnetto/Documents/Python/risco_credito_regras.csv')"
   ]
  },
  {
   "cell_type": "code",
   "execution_count": 4,
   "metadata": {},
   "outputs": [
    {
     "data": {
      "text/plain": [
       "[[ruim, alta, nenhuma, 0_15 | alto],\n",
       " [desconhecida, alta, nenhuma, 15_35 | alto],\n",
       " [desconhecida, baixa, nenhuma, 15_35 | moderado],\n",
       " [desconhecida, baixa, nenhuma, acima_35 | alto],\n",
       " [desconhecida, baixa, nenhuma, acima_35 | baixo],\n",
       " ...\n",
       "]"
      ]
     },
     "execution_count": 4,
     "metadata": {},
     "output_type": "execute_result"
    }
   ],
   "source": [
    "base_risco_credito"
   ]
  },
  {
   "cell_type": "code",
   "execution_count": 5,
   "metadata": {},
   "outputs": [
    {
     "data": {
      "text/plain": [
       "[historia, divida, garantias, renda | risco]"
      ]
     },
     "execution_count": 5,
     "metadata": {},
     "output_type": "execute_result"
    }
   ],
   "source": [
    "base_risco_credito.domain"
   ]
  },
  {
   "cell_type": "code",
   "execution_count": 6,
   "metadata": {},
   "outputs": [],
   "source": [
    "cn2 = Orange.classification.rules.CN2Learner()\n",
    "regras_risco_credito = cn2(base_risco_credito)"
   ]
  },
  {
   "cell_type": "code",
   "execution_count": 7,
   "metadata": {},
   "outputs": [
    {
     "name": "stdout",
     "output_type": "stream",
     "text": [
      "IF renda==0_15 THEN risco=alto \n",
      "IF historia==boa AND divida!=alta THEN risco=baixo \n",
      "IF historia==boa AND garantias!=nenhuma THEN risco=baixo \n",
      "IF historia==boa AND renda!=15_35 THEN risco=baixo \n",
      "IF historia==boa THEN risco=moderado \n",
      "IF divida==alta THEN risco=alto \n",
      "IF historia!=desconhecida THEN risco=moderado \n",
      "IF garantias==adequada THEN risco=baixo \n",
      "IF renda==15_35 THEN risco=moderado \n",
      "IF historia==desconhecida THEN risco=baixo \n",
      "IF TRUE THEN risco=alto \n"
     ]
    }
   ],
   "source": [
    "for regras in regras_risco_credito.rule_list: \n",
    "    print(regras)"
   ]
  },
  {
   "cell_type": "code",
   "execution_count": 10,
   "metadata": {},
   "outputs": [
    {
     "data": {
      "text/plain": [
       "array([1, 0])"
      ]
     },
     "execution_count": 10,
     "metadata": {},
     "output_type": "execute_result"
    }
   ],
   "source": [
    "#mesmos usados no algoritmo naive\n",
    "#história boa, dívida alta, garantia nehuma, renda > 35\n",
    "#história ruim, dívida alta, garantia adequada, renda < 15\n",
    "previsoes = regras_risco_credito([['boa','alta','nenhuma','acima_35'],['ruim','alta','adequada','0_15']])\n",
    "previsoes"
   ]
  },
  {
   "cell_type": "code",
   "execution_count": 11,
   "metadata": {},
   "outputs": [
    {
     "data": {
      "text/plain": [
       "('alto', 'baixo', 'moderado')"
      ]
     },
     "execution_count": 11,
     "metadata": {},
     "output_type": "execute_result"
    }
   ],
   "source": [
    "base_risco_credito.domain.class_var.values"
   ]
  },
  {
   "cell_type": "code",
   "execution_count": 14,
   "metadata": {},
   "outputs": [
    {
     "name": "stdout",
     "output_type": "stream",
     "text": [
      "1\n",
      "baixo\n",
      "0\n",
      "alto\n"
     ]
    }
   ],
   "source": [
    "for i in previsoes:\n",
    "    print(i)\n",
    "    print(base_risco_credito.domain.class_var.values[i])"
   ]
  },
  {
   "cell_type": "code",
   "execution_count": null,
   "metadata": {},
   "outputs": [],
   "source": []
  }
 ],
 "metadata": {
  "interpreter": {
   "hash": "43b8dc23cbfd15ad8a0396acacaf08a82175dc56fbdd094957761d66f6bb2d05"
  },
  "kernelspec": {
   "display_name": "Python 3.9.7 ('base')",
   "language": "python",
   "name": "python3"
  },
  "language_info": {
   "codemirror_mode": {
    "name": "ipython",
    "version": 3
   },
   "file_extension": ".py",
   "mimetype": "text/x-python",
   "name": "python",
   "nbconvert_exporter": "python",
   "pygments_lexer": "ipython3",
   "version": "3.9.7"
  },
  "orig_nbformat": 4
 },
 "nbformat": 4,
 "nbformat_minor": 2
}
